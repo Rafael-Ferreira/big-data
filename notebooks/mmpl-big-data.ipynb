{
 "metadata": {
  "name": "",
  "signature": "sha256:09cdcbce27974be8765d4cb962cfbadc733eb201aa124e8fec9f0d7d96a65ffd"
 },
 "nbformat": 3,
 "nbformat_minor": 0,
 "worksheets": [
  {
   "cells": [
    {
     "cell_type": "heading",
     "level": 1,
     "metadata": {},
     "source": [
      "Big Data"
     ]
    },
    {
     "cell_type": "heading",
     "level": 2,
     "metadata": {},
     "source": [
      "Table of Contents"
     ]
    },
    {
     "cell_type": "markdown",
     "metadata": {},
     "source": [
      "* Introduction\n",
      "  * XXX\n",
      "Before we get started, let's do our usual warm-up proceedure:"
     ]
    },
    {
     "cell_type": "code",
     "collapsed": false,
     "input": [
      "import matplotlib\n",
      "matplotlib.use('nbagg')\n",
      "%matplotlib inline\n",
      "\n",
      "from IPython.display import Image "
     ],
     "language": "python",
     "metadata": {},
     "outputs": [],
     "prompt_number": 1
    },
    {
     "cell_type": "heading",
     "level": 2,
     "metadata": {},
     "source": [
      "Introduction"
     ]
    },
    {
     "cell_type": "markdown",
     "metadata": {},
     "source": []
    }
   ],
   "metadata": {}
  }
 ]
}